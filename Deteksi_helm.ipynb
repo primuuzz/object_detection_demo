{
  "nbformat": 4,
  "nbformat_minor": 0,
  "metadata": {
    "colab": {
      "name": "Deteksi helm.ipynb",
      "provenance": [],
      "collapsed_sections": [],
      "include_colab_link": true
    },
    "kernelspec": {
      "name": "python3",
      "display_name": "Python 3"
    },
    "accelerator": "GPU"
  },
  "cells": [
    {
      "cell_type": "markdown",
      "metadata": {
        "id": "view-in-github",
        "colab_type": "text"
      },
      "source": [
        "<a href=\"https://colab.research.google.com/github/primuuzz/object_detection_demo/blob/master/Deteksi_helm.ipynb\" target=\"_parent\"><img src=\"https://colab.research.google.com/assets/colab-badge.svg\" alt=\"Open In Colab\"/></a>"
      ]
    },
    {
      "cell_type": "markdown",
      "metadata": {
        "id": "ir8P2jfb-hgZ"
      },
      "source": [
        "Menghubungkan ke Google Drive"
      ]
    },
    {
      "cell_type": "code",
      "metadata": {
        "id": "839gXSZMzXb_",
        "colab": {
          "base_uri": "https://localhost:8080/"
        },
        "outputId": "a2b912b6-13d7-403e-fef4-d3afc85f6079"
      },
      "source": [
        "from google.colab import drive\n",
        "drive.mount('/content/drive/')"
      ],
      "execution_count": null,
      "outputs": [
        {
          "output_type": "stream",
          "text": [
            "Mounted at /content/drive/\n"
          ],
          "name": "stdout"
        }
      ]
    },
    {
      "cell_type": "code",
      "metadata": {
        "id": "ZEEWxlNKjXPn"
      },
      "source": [
        "#Menyimpan hasil ekstrak ke dalam folder datasets\n",
        "import zipfile,os\n",
        "local_zip = \"/content/drive/My Drive/dataset.zip\"\n",
        "zip_ref = zipfile.ZipFile(local_zip, \"r\")\n",
        "zip_ref.extractall(\"/content/datasets\")\n",
        "zip_ref.close()"
      ],
      "execution_count": null,
      "outputs": []
    },
    {
      "cell_type": "markdown",
      "metadata": {
        "id": "KntsYKJOBMno"
      },
      "source": [
        "Mengimpor Libraries yang digunakan"
      ]
    },
    {
      "cell_type": "code",
      "metadata": {
        "id": "npfKf3hEkAPI",
        "colab": {
          "base_uri": "https://localhost:8080/"
        },
        "outputId": "7f6a6bea-9a4a-4411-9e45-a01a23e8cc37"
      },
      "source": [
        "import tensorflow as tf\n",
        "from tensorflow.keras.preprocessing.image import ImageDataGenerator\n",
        "from tensorflow.keras.applications import MobileNetV2\n",
        "from tensorflow.keras.layers import AveragePooling2D\n",
        "from tensorflow.keras.layers import Dropout\n",
        "from tensorflow.keras.layers import Flatten\n",
        "from tensorflow.keras.layers import Dense\n",
        "from tensorflow.keras.layers import Input\n",
        "from tensorflow.keras.models import Model\n",
        "from tensorflow.keras.optimizers import Adam\n",
        "from tensorflow.keras.applications.mobilenet_v2 import preprocess_input\n",
        "from tensorflow.keras.preprocessing.image import img_to_array\n",
        "from tensorflow.keras.preprocessing.image import load_img\n",
        "from tensorflow.keras.utils import to_categorical\n",
        "from sklearn.preprocessing import LabelBinarizer\n",
        "from sklearn.model_selection import train_test_split\n",
        "from sklearn.metrics import classification_report\n",
        "from imutils import paths\n",
        "import matplotlib.pyplot as plt\n",
        "import numpy as np\n",
        "import argparse\n",
        "import os\n",
        "from skimage.io import imread\n",
        "from skimage.transform import resize\n",
        "import statsmodels.api\n",
        " \n",
        "# Mengihitung waktu lamanya eksekusi tiap sel di Google Colab\n",
        "!pip install ipython-autotime\n",
        " \n",
        "%load_ext autotime"
      ],
      "execution_count": null,
      "outputs": [
        {
          "output_type": "stream",
          "text": [
            "/usr/local/lib/python3.6/dist-packages/statsmodels/tools/_testing.py:19: FutureWarning: pandas.util.testing is deprecated. Use the functions in the public API at pandas.testing instead.\n",
            "  import pandas.util.testing as tm\n"
          ],
          "name": "stderr"
        },
        {
          "output_type": "stream",
          "text": [
            "Collecting ipython-autotime\n",
            "  Downloading https://files.pythonhosted.org/packages/3f/58/a4a65efcce5c81a67b6893ade862736de355a3a718af5533d30c991831ce/ipython_autotime-0.2.0-py2.py3-none-any.whl\n",
            "Requirement already satisfied: ipython in /usr/local/lib/python3.6/dist-packages (from ipython-autotime) (5.5.0)\n",
            "Requirement already satisfied: prompt-toolkit<2.0.0,>=1.0.4 in /usr/local/lib/python3.6/dist-packages (from ipython->ipython-autotime) (1.0.18)\n",
            "Requirement already satisfied: setuptools>=18.5 in /usr/local/lib/python3.6/dist-packages (from ipython->ipython-autotime) (50.3.2)\n",
            "Requirement already satisfied: simplegeneric>0.8 in /usr/local/lib/python3.6/dist-packages (from ipython->ipython-autotime) (0.8.1)\n",
            "Requirement already satisfied: pickleshare in /usr/local/lib/python3.6/dist-packages (from ipython->ipython-autotime) (0.7.5)\n",
            "Requirement already satisfied: decorator in /usr/local/lib/python3.6/dist-packages (from ipython->ipython-autotime) (4.4.2)\n",
            "Requirement already satisfied: traitlets>=4.2 in /usr/local/lib/python3.6/dist-packages (from ipython->ipython-autotime) (4.3.3)\n",
            "Requirement already satisfied: pygments in /usr/local/lib/python3.6/dist-packages (from ipython->ipython-autotime) (2.6.1)\n",
            "Requirement already satisfied: pexpect; sys_platform != \"win32\" in /usr/local/lib/python3.6/dist-packages (from ipython->ipython-autotime) (4.8.0)\n",
            "Requirement already satisfied: wcwidth in /usr/local/lib/python3.6/dist-packages (from prompt-toolkit<2.0.0,>=1.0.4->ipython->ipython-autotime) (0.2.5)\n",
            "Requirement already satisfied: six>=1.9.0 in /usr/local/lib/python3.6/dist-packages (from prompt-toolkit<2.0.0,>=1.0.4->ipython->ipython-autotime) (1.15.0)\n",
            "Requirement already satisfied: ipython-genutils in /usr/local/lib/python3.6/dist-packages (from traitlets>=4.2->ipython->ipython-autotime) (0.2.0)\n",
            "Requirement already satisfied: ptyprocess>=0.5 in /usr/local/lib/python3.6/dist-packages (from pexpect; sys_platform != \"win32\"->ipython->ipython-autotime) (0.6.0)\n",
            "Installing collected packages: ipython-autotime\n",
            "Successfully installed ipython-autotime-0.2.0\n",
            "time: 136 µs\n"
          ],
          "name": "stdout"
        }
      ]
    },
    {
      "cell_type": "code",
      "metadata": {
        "id": "073FUBGC6coW",
        "colab": {
          "base_uri": "https://localhost:8080/"
        },
        "outputId": "be75550f-209b-4fca-b1f3-9b703e7d0a72"
      },
      "source": [
        "print(tf.__version__)"
      ],
      "execution_count": null,
      "outputs": [
        {
          "output_type": "stream",
          "text": [
            "2.3.0\n",
            "time: 837 µs\n"
          ],
          "name": "stdout"
        }
      ]
    },
    {
      "cell_type": "markdown",
      "metadata": {
        "id": "YSi6P-TlBEKz"
      },
      "source": [
        "Preprocessing Datasets"
      ]
    },
    {
      "cell_type": "markdown",
      "metadata": {
        "id": "V4c52bN3BlEM"
      },
      "source": [
        "Membuat Objek ImageDataGenertor dan Data Augmentation"
      ]
    },
    {
      "cell_type": "markdown",
      "metadata": {
        "id": "1GkNQvum7ATR"
      },
      "source": [
        "Membuat obyek gambar dataset dengan ImageDataGenerator, augmentasi dataset dan membagi dataset validasi sebesar 20% dan dataset pelatihan sebesar 80%"
      ]
    },
    {
      "cell_type": "code",
      "metadata": {
        "id": "rGm5P8kZ6kDK",
        "colab": {
          "base_uri": "https://localhost:8080/"
        },
        "outputId": "db05f1d7-f470-4417-ae40-577a3a9e68c2"
      },
      "source": [
        "datagen = tf.keras.preprocessing.image.ImageDataGenerator(\n",
        "    rescale=1./255, \n",
        "    validation_split = 0.2,\n",
        "    rotation_range = 20,\n",
        "    horizontal_flip = True,\n",
        "    shear_range = 0.2,\n",
        "    zoom_range = 0.2,    \n",
        "    vertical_flip = True,\n",
        "    fill_mode = \"nearest\")"
      ],
      "execution_count": null,
      "outputs": [
        {
          "output_type": "stream",
          "text": [
            "time: 1.96 ms\n"
          ],
          "name": "stdout"
        }
      ]
    },
    {
      "cell_type": "markdown",
      "metadata": {
        "id": "eupfNOXSByTw"
      },
      "source": [
        "Menggunakan Obyek Image Data Generator"
      ]
    },
    {
      "cell_type": "code",
      "metadata": {
        "id": "JH1iiugN6pKH",
        "colab": {
          "base_uri": "https://localhost:8080/"
        },
        "outputId": "51600da1-beb7-4e82-c995-f95e8a940743"
      },
      "source": [
        "#Memuat dataset pelatihan & validasi\n",
        "base_dir = os.path.join(\"/content/datasets/dataset/train\")\n",
        "\n",
        "img_size = 224\n",
        "batch_size = 128\n",
        "\n",
        "train_generator = datagen.flow_from_directory(\n",
        "    base_dir,\n",
        "    target_size=(img_size, img_size),\n",
        "    batch_size=batch_size, \n",
        "    subset='training')\n",
        "\n",
        "val_generator = datagen.flow_from_directory(\n",
        "    base_dir,\n",
        "    target_size=(img_size, img_size),\n",
        "    batch_size=batch_size, \n",
        "    subset='validation')\n",
        "\n",
        "#Memuat dataset pengujian\n",
        "X_test = []\n",
        "y_test = []\n",
        "labels = ['ga pake helm',\n",
        "          'helm']\n",
        "\n",
        "for i,label in enumerate(labels):\n",
        "    folder = os.path.join(\"/content/datasets/dataset/test\",label)\n",
        "    files = sorted(os.listdir(folder))\n",
        "    files = [x for x in files if x.endswith(\".jpg\")]\n",
        "    for k,file in enumerate(files):\n",
        "        image_path = os.path.join(folder, file)\n",
        "        \n",
        "        image = imread(image_path)/255.\n",
        "        image = resize(image,(224,224))\n",
        "        X_test.append(image)\n",
        "        category = os.path.split(folder)[-1]\n",
        "        y_test.append(i)\n",
        "\n",
        "X_test = np.array(X_test)\n",
        "y_test = np.array(y_test)\n",
        "\n",
        "#Menampilkan bentuk dari masing-masing dataset\n",
        "for image_batch, label_batch in train_generator:\n",
        "  break\n",
        "print(\"Bentuk array dari dataset train (pelatihan) adalah:\", image_batch.shape,label_batch.shape)\n",
        "for image_batch, label_batch in val_generator:\n",
        "  break\n",
        "print(\"Bentuk array dari dataset validation (validasi) adalah:\", image_batch.shape,label_batch.shape)\n",
        "print(\"Bentuk array dari dataset test (pengujian) adalah:\", X_test.shape,y_test.shape)"
      ],
      "execution_count": null,
      "outputs": [
        {
          "output_type": "stream",
          "text": [
            "Found 462 images belonging to 2 classes.\n",
            "Found 114 images belonging to 2 classes.\n",
            "Bentuk array dari dataset train (pelatihan) adalah: (128, 224, 224, 3) (128, 2)\n",
            "Bentuk array dari dataset validation (validasi) adalah: (114, 224, 224, 3) (114, 2)\n",
            "Bentuk array dari dataset test (pengujian) adalah: (63, 224, 224, 3) (63,)\n",
            "time: 4.18 s\n"
          ],
          "name": "stdout"
        }
      ]
    },
    {
      "cell_type": "markdown",
      "metadata": {
        "id": "lVNbkIHolL3W"
      },
      "source": [
        "Menyimpan Label Datasets"
      ]
    },
    {
      "cell_type": "code",
      "metadata": {
        "id": "a5-H9xSYdP_U",
        "colab": {
          "base_uri": "https://localhost:8080/"
        },
        "outputId": "9d04cabc-e38b-43dc-bb2d-4dff66681c56"
      },
      "source": [
        "print (train_generator.class_indices)\n",
        "\n",
        "labels_txt = '\\n'.join(sorted(train_generator.class_indices.keys()))\n",
        "\n",
        "with open('labels.txt', 'w') as f:\n",
        "  f.write(labels_txt)"
      ],
      "execution_count": null,
      "outputs": [
        {
          "output_type": "stream",
          "text": [
            "{'ga pake helm': 0, 'helm': 1}\n",
            "time: 1.78 ms\n"
          ],
          "name": "stdout"
        }
      ]
    },
    {
      "cell_type": "code",
      "metadata": {
        "id": "NGNgLvCxmVmy",
        "colab": {
          "base_uri": "https://localhost:8080/"
        },
        "outputId": "88dca99e-5522-4b56-cdc4-18cadd24591d"
      },
      "source": [
        "from tensorflow.keras import layers, Sequential\n",
        "from tensorflow.keras.models import Model\n",
        "from tensorflow.keras.layers import Conv2D, Activation, MaxPooling2D, Dropout, Flatten, Dense\n",
        "from keras.layers import Conv2D, MaxPooling2D, AveragePooling2D"
      ],
      "execution_count": null,
      "outputs": [
        {
          "output_type": "stream",
          "text": [
            "time: 34.6 ms\n"
          ],
          "name": "stdout"
        }
      ]
    },
    {
      "cell_type": "markdown",
      "metadata": {
        "id": "IkVhf0duB8iL"
      },
      "source": [
        "Membuat model dari jaringan CNN yang sudah dipelajari sebelumnya (pre-trained covnets)"
      ]
    },
    {
      "cell_type": "code",
      "metadata": {
        "id": "0M4E6csX7tgJ",
        "colab": {
          "base_uri": "https://localhost:8080/"
        },
        "outputId": "e565c1aa-6fad-403d-98c0-5c9f21f3b367"
      },
      "source": [
        "IMG_SHAPE = (224, 224, 3)\n",
        "# Membuat model dasar (base model) dari pre-trained model \n",
        "base_model = tf.keras.applications.MobileNet(input_shape=IMG_SHAPE,\n",
        "                                             include_top=False,\n",
        "                                             weights='imagenet')"
      ],
      "execution_count": null,
      "outputs": [
        {
          "output_type": "stream",
          "text": [
            "Downloading data from https://storage.googleapis.com/tensorflow/keras-applications/mobilenet/mobilenet_1_0_224_tf_no_top.h5\n",
            "17227776/17225924 [==============================] - 0s 0us/step\n",
            "time: 6.42 s\n"
          ],
          "name": "stdout"
        }
      ]
    },
    {
      "cell_type": "markdown",
      "metadata": {
        "id": "gthExHIiip8r"
      },
      "source": [
        "Feature Extraction"
      ]
    },
    {
      "cell_type": "code",
      "metadata": {
        "id": "v96Ie4WYgRF3",
        "colab": {
          "base_uri": "https://localhost:8080/"
        },
        "outputId": "1f249920-dfac-448b-ecd4-17e047fa77d0"
      },
      "source": [
        "base_model.trainable = False\n",
        "base_model.summary()"
      ],
      "execution_count": null,
      "outputs": [
        {
          "output_type": "stream",
          "text": [
            "Model: \"mobilenet_1.00_224\"\n",
            "_________________________________________________________________\n",
            "Layer (type)                 Output Shape              Param #   \n",
            "=================================================================\n",
            "input_1 (InputLayer)         [(None, 224, 224, 3)]     0         \n",
            "_________________________________________________________________\n",
            "conv1_pad (ZeroPadding2D)    (None, 225, 225, 3)       0         \n",
            "_________________________________________________________________\n",
            "conv1 (Conv2D)               (None, 112, 112, 32)      864       \n",
            "_________________________________________________________________\n",
            "conv1_bn (BatchNormalization (None, 112, 112, 32)      128       \n",
            "_________________________________________________________________\n",
            "conv1_relu (ReLU)            (None, 112, 112, 32)      0         \n",
            "_________________________________________________________________\n",
            "conv_dw_1 (DepthwiseConv2D)  (None, 112, 112, 32)      288       \n",
            "_________________________________________________________________\n",
            "conv_dw_1_bn (BatchNormaliza (None, 112, 112, 32)      128       \n",
            "_________________________________________________________________\n",
            "conv_dw_1_relu (ReLU)        (None, 112, 112, 32)      0         \n",
            "_________________________________________________________________\n",
            "conv_pw_1 (Conv2D)           (None, 112, 112, 64)      2048      \n",
            "_________________________________________________________________\n",
            "conv_pw_1_bn (BatchNormaliza (None, 112, 112, 64)      256       \n",
            "_________________________________________________________________\n",
            "conv_pw_1_relu (ReLU)        (None, 112, 112, 64)      0         \n",
            "_________________________________________________________________\n",
            "conv_pad_2 (ZeroPadding2D)   (None, 113, 113, 64)      0         \n",
            "_________________________________________________________________\n",
            "conv_dw_2 (DepthwiseConv2D)  (None, 56, 56, 64)        576       \n",
            "_________________________________________________________________\n",
            "conv_dw_2_bn (BatchNormaliza (None, 56, 56, 64)        256       \n",
            "_________________________________________________________________\n",
            "conv_dw_2_relu (ReLU)        (None, 56, 56, 64)        0         \n",
            "_________________________________________________________________\n",
            "conv_pw_2 (Conv2D)           (None, 56, 56, 128)       8192      \n",
            "_________________________________________________________________\n",
            "conv_pw_2_bn (BatchNormaliza (None, 56, 56, 128)       512       \n",
            "_________________________________________________________________\n",
            "conv_pw_2_relu (ReLU)        (None, 56, 56, 128)       0         \n",
            "_________________________________________________________________\n",
            "conv_dw_3 (DepthwiseConv2D)  (None, 56, 56, 128)       1152      \n",
            "_________________________________________________________________\n",
            "conv_dw_3_bn (BatchNormaliza (None, 56, 56, 128)       512       \n",
            "_________________________________________________________________\n",
            "conv_dw_3_relu (ReLU)        (None, 56, 56, 128)       0         \n",
            "_________________________________________________________________\n",
            "conv_pw_3 (Conv2D)           (None, 56, 56, 128)       16384     \n",
            "_________________________________________________________________\n",
            "conv_pw_3_bn (BatchNormaliza (None, 56, 56, 128)       512       \n",
            "_________________________________________________________________\n",
            "conv_pw_3_relu (ReLU)        (None, 56, 56, 128)       0         \n",
            "_________________________________________________________________\n",
            "conv_pad_4 (ZeroPadding2D)   (None, 57, 57, 128)       0         \n",
            "_________________________________________________________________\n",
            "conv_dw_4 (DepthwiseConv2D)  (None, 28, 28, 128)       1152      \n",
            "_________________________________________________________________\n",
            "conv_dw_4_bn (BatchNormaliza (None, 28, 28, 128)       512       \n",
            "_________________________________________________________________\n",
            "conv_dw_4_relu (ReLU)        (None, 28, 28, 128)       0         \n",
            "_________________________________________________________________\n",
            "conv_pw_4 (Conv2D)           (None, 28, 28, 256)       32768     \n",
            "_________________________________________________________________\n",
            "conv_pw_4_bn (BatchNormaliza (None, 28, 28, 256)       1024      \n",
            "_________________________________________________________________\n",
            "conv_pw_4_relu (ReLU)        (None, 28, 28, 256)       0         \n",
            "_________________________________________________________________\n",
            "conv_dw_5 (DepthwiseConv2D)  (None, 28, 28, 256)       2304      \n",
            "_________________________________________________________________\n",
            "conv_dw_5_bn (BatchNormaliza (None, 28, 28, 256)       1024      \n",
            "_________________________________________________________________\n",
            "conv_dw_5_relu (ReLU)        (None, 28, 28, 256)       0         \n",
            "_________________________________________________________________\n",
            "conv_pw_5 (Conv2D)           (None, 28, 28, 256)       65536     \n",
            "_________________________________________________________________\n",
            "conv_pw_5_bn (BatchNormaliza (None, 28, 28, 256)       1024      \n",
            "_________________________________________________________________\n",
            "conv_pw_5_relu (ReLU)        (None, 28, 28, 256)       0         \n",
            "_________________________________________________________________\n",
            "conv_pad_6 (ZeroPadding2D)   (None, 29, 29, 256)       0         \n",
            "_________________________________________________________________\n",
            "conv_dw_6 (DepthwiseConv2D)  (None, 14, 14, 256)       2304      \n",
            "_________________________________________________________________\n",
            "conv_dw_6_bn (BatchNormaliza (None, 14, 14, 256)       1024      \n",
            "_________________________________________________________________\n",
            "conv_dw_6_relu (ReLU)        (None, 14, 14, 256)       0         \n",
            "_________________________________________________________________\n",
            "conv_pw_6 (Conv2D)           (None, 14, 14, 512)       131072    \n",
            "_________________________________________________________________\n",
            "conv_pw_6_bn (BatchNormaliza (None, 14, 14, 512)       2048      \n",
            "_________________________________________________________________\n",
            "conv_pw_6_relu (ReLU)        (None, 14, 14, 512)       0         \n",
            "_________________________________________________________________\n",
            "conv_dw_7 (DepthwiseConv2D)  (None, 14, 14, 512)       4608      \n",
            "_________________________________________________________________\n",
            "conv_dw_7_bn (BatchNormaliza (None, 14, 14, 512)       2048      \n",
            "_________________________________________________________________\n",
            "conv_dw_7_relu (ReLU)        (None, 14, 14, 512)       0         \n",
            "_________________________________________________________________\n",
            "conv_pw_7 (Conv2D)           (None, 14, 14, 512)       262144    \n",
            "_________________________________________________________________\n",
            "conv_pw_7_bn (BatchNormaliza (None, 14, 14, 512)       2048      \n",
            "_________________________________________________________________\n",
            "conv_pw_7_relu (ReLU)        (None, 14, 14, 512)       0         \n",
            "_________________________________________________________________\n",
            "conv_dw_8 (DepthwiseConv2D)  (None, 14, 14, 512)       4608      \n",
            "_________________________________________________________________\n",
            "conv_dw_8_bn (BatchNormaliza (None, 14, 14, 512)       2048      \n",
            "_________________________________________________________________\n",
            "conv_dw_8_relu (ReLU)        (None, 14, 14, 512)       0         \n",
            "_________________________________________________________________\n",
            "conv_pw_8 (Conv2D)           (None, 14, 14, 512)       262144    \n",
            "_________________________________________________________________\n",
            "conv_pw_8_bn (BatchNormaliza (None, 14, 14, 512)       2048      \n",
            "_________________________________________________________________\n",
            "conv_pw_8_relu (ReLU)        (None, 14, 14, 512)       0         \n",
            "_________________________________________________________________\n",
            "conv_dw_9 (DepthwiseConv2D)  (None, 14, 14, 512)       4608      \n",
            "_________________________________________________________________\n",
            "conv_dw_9_bn (BatchNormaliza (None, 14, 14, 512)       2048      \n",
            "_________________________________________________________________\n",
            "conv_dw_9_relu (ReLU)        (None, 14, 14, 512)       0         \n",
            "_________________________________________________________________\n",
            "conv_pw_9 (Conv2D)           (None, 14, 14, 512)       262144    \n",
            "_________________________________________________________________\n",
            "conv_pw_9_bn (BatchNormaliza (None, 14, 14, 512)       2048      \n",
            "_________________________________________________________________\n",
            "conv_pw_9_relu (ReLU)        (None, 14, 14, 512)       0         \n",
            "_________________________________________________________________\n",
            "conv_dw_10 (DepthwiseConv2D) (None, 14, 14, 512)       4608      \n",
            "_________________________________________________________________\n",
            "conv_dw_10_bn (BatchNormaliz (None, 14, 14, 512)       2048      \n",
            "_________________________________________________________________\n",
            "conv_dw_10_relu (ReLU)       (None, 14, 14, 512)       0         \n",
            "_________________________________________________________________\n",
            "conv_pw_10 (Conv2D)          (None, 14, 14, 512)       262144    \n",
            "_________________________________________________________________\n",
            "conv_pw_10_bn (BatchNormaliz (None, 14, 14, 512)       2048      \n",
            "_________________________________________________________________\n",
            "conv_pw_10_relu (ReLU)       (None, 14, 14, 512)       0         \n",
            "_________________________________________________________________\n",
            "conv_dw_11 (DepthwiseConv2D) (None, 14, 14, 512)       4608      \n",
            "_________________________________________________________________\n",
            "conv_dw_11_bn (BatchNormaliz (None, 14, 14, 512)       2048      \n",
            "_________________________________________________________________\n",
            "conv_dw_11_relu (ReLU)       (None, 14, 14, 512)       0         \n",
            "_________________________________________________________________\n",
            "conv_pw_11 (Conv2D)          (None, 14, 14, 512)       262144    \n",
            "_________________________________________________________________\n",
            "conv_pw_11_bn (BatchNormaliz (None, 14, 14, 512)       2048      \n",
            "_________________________________________________________________\n",
            "conv_pw_11_relu (ReLU)       (None, 14, 14, 512)       0         \n",
            "_________________________________________________________________\n",
            "conv_pad_12 (ZeroPadding2D)  (None, 15, 15, 512)       0         \n",
            "_________________________________________________________________\n",
            "conv_dw_12 (DepthwiseConv2D) (None, 7, 7, 512)         4608      \n",
            "_________________________________________________________________\n",
            "conv_dw_12_bn (BatchNormaliz (None, 7, 7, 512)         2048      \n",
            "_________________________________________________________________\n",
            "conv_dw_12_relu (ReLU)       (None, 7, 7, 512)         0         \n",
            "_________________________________________________________________\n",
            "conv_pw_12 (Conv2D)          (None, 7, 7, 1024)        524288    \n",
            "_________________________________________________________________\n",
            "conv_pw_12_bn (BatchNormaliz (None, 7, 7, 1024)        4096      \n",
            "_________________________________________________________________\n",
            "conv_pw_12_relu (ReLU)       (None, 7, 7, 1024)        0         \n",
            "_________________________________________________________________\n",
            "conv_dw_13 (DepthwiseConv2D) (None, 7, 7, 1024)        9216      \n",
            "_________________________________________________________________\n",
            "conv_dw_13_bn (BatchNormaliz (None, 7, 7, 1024)        4096      \n",
            "_________________________________________________________________\n",
            "conv_dw_13_relu (ReLU)       (None, 7, 7, 1024)        0         \n",
            "_________________________________________________________________\n",
            "conv_pw_13 (Conv2D)          (None, 7, 7, 1024)        1048576   \n",
            "_________________________________________________________________\n",
            "conv_pw_13_bn (BatchNormaliz (None, 7, 7, 1024)        4096      \n",
            "_________________________________________________________________\n",
            "conv_pw_13_relu (ReLU)       (None, 7, 7, 1024)        0         \n",
            "=================================================================\n",
            "Total params: 3,228,864\n",
            "Trainable params: 0\n",
            "Non-trainable params: 3,228,864\n",
            "_________________________________________________________________\n",
            "time: 40.6 ms\n"
          ],
          "name": "stdout"
        }
      ]
    },
    {
      "cell_type": "code",
      "metadata": {
        "id": "ZOFXyTcei3_i",
        "colab": {
          "base_uri": "https://localhost:8080/"
        },
        "outputId": "96d6a7d0-a4f8-447e-bd98-6ebee8448c42"
      },
      "source": [
        "import keras\n",
        "from keras import backend as K\n",
        "from keras.models import Sequential\n",
        "from keras import layers\n",
        "from keras.utils.np_utils import to_categorical\n",
        "\n",
        "from sklearn.model_selection import train_test_split"
      ],
      "execution_count": null,
      "outputs": [
        {
          "output_type": "stream",
          "text": [
            "time: 4.09 ms\n"
          ],
          "name": "stdout"
        }
      ]
    },
    {
      "cell_type": "markdown",
      "metadata": {
        "id": "EpaDbDrmjBlU"
      },
      "source": [
        "Mempersiapkan Data Masukkan Pengujian"
      ]
    },
    {
      "cell_type": "code",
      "metadata": {
        "id": "HMdahr0mjF3q",
        "colab": {
          "base_uri": "https://localhost:8080/"
        },
        "outputId": "2fdcf58f-736c-41e1-8de1-4e256a3b5eae"
      },
      "source": [
        "y_test2 = to_categorical(y_test)\n",
        "X_test3, y_test3 = (X_test, y_test2)"
      ],
      "execution_count": null,
      "outputs": [
        {
          "output_type": "stream",
          "text": [
            "time: 1.86 ms\n"
          ],
          "name": "stdout"
        }
      ]
    },
    {
      "cell_type": "markdown",
      "metadata": {
        "id": "bBjWZlxGjLXY"
      },
      "source": [
        "Pembuatan Model (Menambah Model)"
      ]
    },
    {
      "cell_type": "code",
      "metadata": {
        "id": "AU7VY6zc9BRK",
        "colab": {
          "base_uri": "https://localhost:8080/"
        },
        "outputId": "4c55f3e5-1240-4efe-f15d-5ecfbb5c9a74"
      },
      "source": [
        "model = tf.keras.Sequential([\n",
        "                             base_model,\n",
        "                             tf.keras.layers.Conv2D(64, (2,2), activation='relu'),\n",
        "                             tf.keras.layers.Dropout(0.5),\n",
        "                             tf.keras.layers.GlobalAveragePooling2D(),\n",
        "                             tf.keras.layers.Dense(2, activation='softmax')\n",
        "\n",
        "])\n",
        "\n",
        "\n",
        "model.compile(\"adam\",loss=\"categorical_crossentropy\",metrics=[\"acc\"])\n",
        "model.summary()"
      ],
      "execution_count": null,
      "outputs": [
        {
          "output_type": "stream",
          "text": [
            "Model: \"sequential\"\n",
            "_________________________________________________________________\n",
            "Layer (type)                 Output Shape              Param #   \n",
            "=================================================================\n",
            "mobilenet_1.00_224 (Function (None, 7, 7, 1024)        3228864   \n",
            "_________________________________________________________________\n",
            "conv2d (Conv2D)              (None, 6, 6, 64)          262208    \n",
            "_________________________________________________________________\n",
            "dropout (Dropout)            (None, 6, 6, 64)          0         \n",
            "_________________________________________________________________\n",
            "global_average_pooling2d (Gl (None, 64)                0         \n",
            "_________________________________________________________________\n",
            "dense (Dense)                (None, 2)                 130       \n",
            "=================================================================\n",
            "Total params: 3,491,202\n",
            "Trainable params: 262,338\n",
            "Non-trainable params: 3,228,864\n",
            "_________________________________________________________________\n",
            "time: 173 ms\n"
          ],
          "name": "stdout"
        }
      ]
    },
    {
      "cell_type": "markdown",
      "metadata": {
        "id": "gtX-715gC43l"
      },
      "source": [
        "Melatih model"
      ]
    },
    {
      "cell_type": "code",
      "metadata": {
        "id": "ECjFOcQ5C6h_",
        "colab": {
          "base_uri": "https://localhost:8080/"
        },
        "outputId": "25ece2d9-fc3e-4f2a-9575-92184b59af43"
      },
      "source": [
        "#es = EarlyStopping(monitor=\"val_loss\", patience=7, verbose=1, min_delta=0.09, mode=\"auto\")\n",
        "history = model.fit(train_generator,\n",
        "                    epochs=50,\n",
        "                    validation_data=val_generator)"
      ],
      "execution_count": null,
      "outputs": [
        {
          "output_type": "stream",
          "text": [
            "Epoch 1/50\n",
            "4/4 [==============================] - 6s 2s/step - loss: 1.7425 - acc: 0.8268 - val_loss: 0.7181 - val_acc: 0.8684\n",
            "Epoch 2/50\n",
            "4/4 [==============================] - 5s 1s/step - loss: 0.4647 - acc: 0.8723 - val_loss: 0.4377 - val_acc: 0.9211\n",
            "Epoch 3/50\n",
            "4/4 [==============================] - 5s 1s/step - loss: 0.4617 - acc: 0.9026 - val_loss: 0.3831 - val_acc: 0.9561\n",
            "Epoch 4/50\n",
            "4/4 [==============================] - 5s 1s/step - loss: 0.3176 - acc: 0.9026 - val_loss: 0.1753 - val_acc: 0.8772\n",
            "Epoch 5/50\n",
            "4/4 [==============================] - 5s 1s/step - loss: 0.2064 - acc: 0.8961 - val_loss: 0.2432 - val_acc: 0.8947\n",
            "Epoch 6/50\n",
            "4/4 [==============================] - 5s 1s/step - loss: 0.1695 - acc: 0.9242 - val_loss: 0.0594 - val_acc: 0.9737\n",
            "Epoch 7/50\n",
            "4/4 [==============================] - 5s 1s/step - loss: 0.1207 - acc: 0.9502 - val_loss: 0.1219 - val_acc: 0.9474\n",
            "Epoch 8/50\n",
            "4/4 [==============================] - 5s 1s/step - loss: 0.1124 - acc: 0.9545 - val_loss: 0.1084 - val_acc: 0.9649\n",
            "Epoch 9/50\n",
            "4/4 [==============================] - 5s 1s/step - loss: 0.0777 - acc: 0.9719 - val_loss: 0.0574 - val_acc: 0.9912\n",
            "Epoch 10/50\n",
            "4/4 [==============================] - 5s 1s/step - loss: 0.0843 - acc: 0.9697 - val_loss: 0.0814 - val_acc: 0.9649\n",
            "Epoch 11/50\n",
            "4/4 [==============================] - 5s 1s/step - loss: 0.0882 - acc: 0.9740 - val_loss: 0.0827 - val_acc: 0.9649\n",
            "Epoch 12/50\n",
            "4/4 [==============================] - 5s 1s/step - loss: 0.0567 - acc: 0.9827 - val_loss: 0.0510 - val_acc: 0.9825\n",
            "Epoch 13/50\n",
            "4/4 [==============================] - 5s 1s/step - loss: 0.0501 - acc: 0.9848 - val_loss: 0.0862 - val_acc: 0.9649\n",
            "Epoch 14/50\n",
            "4/4 [==============================] - 5s 1s/step - loss: 0.0402 - acc: 0.9805 - val_loss: 0.0570 - val_acc: 0.9649\n",
            "Epoch 15/50\n",
            "4/4 [==============================] - 6s 1s/step - loss: 0.0326 - acc: 0.9805 - val_loss: 0.0557 - val_acc: 0.9825\n",
            "Epoch 16/50\n",
            "4/4 [==============================] - 5s 1s/step - loss: 0.0451 - acc: 0.9913 - val_loss: 0.0531 - val_acc: 0.9737\n",
            "Epoch 17/50\n",
            "4/4 [==============================] - 5s 1s/step - loss: 0.0473 - acc: 0.9740 - val_loss: 0.1273 - val_acc: 0.9386\n",
            "Epoch 18/50\n",
            "4/4 [==============================] - 5s 1s/step - loss: 0.0240 - acc: 0.9913 - val_loss: 0.0948 - val_acc: 0.9737\n",
            "Epoch 19/50\n",
            "4/4 [==============================] - 6s 1s/step - loss: 0.0241 - acc: 0.9935 - val_loss: 0.0765 - val_acc: 0.9737\n",
            "Epoch 20/50\n",
            "4/4 [==============================] - 5s 1s/step - loss: 0.0257 - acc: 0.9957 - val_loss: 0.0253 - val_acc: 0.9912\n",
            "Epoch 21/50\n",
            "4/4 [==============================] - 6s 1s/step - loss: 0.0245 - acc: 0.9957 - val_loss: 0.0880 - val_acc: 0.9737\n",
            "Epoch 22/50\n",
            "4/4 [==============================] - 5s 1s/step - loss: 0.0337 - acc: 0.9848 - val_loss: 0.0718 - val_acc: 0.9737\n",
            "Epoch 23/50\n",
            "4/4 [==============================] - 5s 1s/step - loss: 0.0215 - acc: 0.9957 - val_loss: 0.0517 - val_acc: 0.9825\n",
            "Epoch 24/50\n",
            "4/4 [==============================] - 6s 1s/step - loss: 0.0284 - acc: 0.9870 - val_loss: 0.0626 - val_acc: 0.9912\n",
            "Epoch 25/50\n",
            "4/4 [==============================] - 6s 1s/step - loss: 0.0227 - acc: 0.9913 - val_loss: 0.1075 - val_acc: 0.9649\n",
            "Epoch 26/50\n",
            "4/4 [==============================] - 5s 1s/step - loss: 0.0175 - acc: 0.9957 - val_loss: 0.0644 - val_acc: 0.9737\n",
            "Epoch 27/50\n",
            "4/4 [==============================] - 6s 1s/step - loss: 0.0161 - acc: 0.9957 - val_loss: 0.0682 - val_acc: 0.9737\n",
            "Epoch 28/50\n",
            "4/4 [==============================] - 5s 1s/step - loss: 0.0163 - acc: 0.9978 - val_loss: 0.0603 - val_acc: 0.9912\n",
            "Epoch 29/50\n",
            "4/4 [==============================] - 5s 1s/step - loss: 0.0186 - acc: 0.9978 - val_loss: 0.0790 - val_acc: 0.9737\n",
            "Epoch 30/50\n",
            "4/4 [==============================] - 5s 1s/step - loss: 0.0190 - acc: 0.9957 - val_loss: 0.1241 - val_acc: 0.9737\n",
            "Epoch 31/50\n",
            "4/4 [==============================] - 5s 1s/step - loss: 0.0132 - acc: 1.0000 - val_loss: 0.0259 - val_acc: 0.9825\n",
            "Epoch 32/50\n",
            "4/4 [==============================] - 6s 1s/step - loss: 0.0212 - acc: 0.9978 - val_loss: 0.0792 - val_acc: 0.9737\n",
            "Epoch 33/50\n",
            "4/4 [==============================] - 6s 1s/step - loss: 0.0162 - acc: 0.9913 - val_loss: 0.2064 - val_acc: 0.9298\n",
            "Epoch 34/50\n",
            "4/4 [==============================] - 5s 1s/step - loss: 0.0177 - acc: 0.9957 - val_loss: 0.0370 - val_acc: 0.9912\n",
            "Epoch 35/50\n",
            "4/4 [==============================] - 5s 1s/step - loss: 0.0188 - acc: 0.9978 - val_loss: 0.0811 - val_acc: 0.9737\n",
            "Epoch 36/50\n",
            "4/4 [==============================] - 5s 1s/step - loss: 0.0098 - acc: 1.0000 - val_loss: 0.0579 - val_acc: 0.9825\n",
            "Epoch 37/50\n",
            "4/4 [==============================] - 5s 1s/step - loss: 0.0133 - acc: 0.9957 - val_loss: 0.0707 - val_acc: 0.9737\n",
            "Epoch 38/50\n",
            "4/4 [==============================] - 5s 1s/step - loss: 0.0090 - acc: 1.0000 - val_loss: 0.0681 - val_acc: 0.9825\n",
            "Epoch 39/50\n",
            "4/4 [==============================] - 5s 1s/step - loss: 0.0076 - acc: 1.0000 - val_loss: 0.0907 - val_acc: 0.9825\n",
            "Epoch 40/50\n",
            "4/4 [==============================] - 5s 1s/step - loss: 0.0085 - acc: 1.0000 - val_loss: 0.1103 - val_acc: 0.9561\n",
            "Epoch 41/50\n",
            "4/4 [==============================] - 5s 1s/step - loss: 0.0138 - acc: 0.9913 - val_loss: 0.0960 - val_acc: 0.9825\n",
            "Epoch 42/50\n",
            "4/4 [==============================] - 5s 1s/step - loss: 0.0215 - acc: 0.9935 - val_loss: 0.0635 - val_acc: 0.9825\n",
            "Epoch 43/50\n",
            "4/4 [==============================] - 6s 1s/step - loss: 0.0093 - acc: 0.9978 - val_loss: 0.1618 - val_acc: 0.9561\n",
            "Epoch 44/50\n",
            "4/4 [==============================] - 5s 1s/step - loss: 0.0123 - acc: 0.9978 - val_loss: 0.1115 - val_acc: 0.9474\n",
            "Epoch 45/50\n",
            "4/4 [==============================] - 5s 1s/step - loss: 0.0072 - acc: 1.0000 - val_loss: 0.0394 - val_acc: 0.9825\n",
            "Epoch 46/50\n",
            "4/4 [==============================] - 5s 1s/step - loss: 0.0083 - acc: 0.9978 - val_loss: 0.0568 - val_acc: 0.9737\n",
            "Epoch 47/50\n",
            "4/4 [==============================] - 5s 1s/step - loss: 0.0141 - acc: 0.9978 - val_loss: 0.0954 - val_acc: 0.9737\n",
            "Epoch 48/50\n",
            "4/4 [==============================] - 6s 1s/step - loss: 0.0078 - acc: 0.9978 - val_loss: 0.1003 - val_acc: 0.9649\n",
            "Epoch 49/50\n",
            "4/4 [==============================] - 5s 1s/step - loss: 0.0084 - acc: 0.9978 - val_loss: 0.0735 - val_acc: 0.9825\n",
            "Epoch 50/50\n",
            "4/4 [==============================] - 5s 1s/step - loss: 0.0075 - acc: 0.9978 - val_loss: 0.1219 - val_acc: 0.9649\n",
            "time: 5min 46s\n"
          ],
          "name": "stdout"
        }
      ]
    },
    {
      "cell_type": "markdown",
      "metadata": {
        "id": "IDUih42-Dbnc"
      },
      "source": [
        "Menampilkan Grafik Model Hasil Pelatihan"
      ]
    },
    {
      "cell_type": "code",
      "metadata": {
        "id": "o6-X4DuVDe0c",
        "colab": {
          "base_uri": "https://localhost:8080/",
          "height": 330
        },
        "outputId": "ed099968-9d4d-4ecb-b6f5-4ab10a10ce62"
      },
      "source": [
        "fig = plt.figure(figsize=(7, 4))\n",
        "fig.set_figheight(10)\n",
        "fig.set_figwidth(15)\n",
        "\n",
        "plt.subplot(2, 2, 1)\n",
        "plt.plot(history.history[\"acc\"], label = \"Training Accuracy\")\n",
        "plt.plot(history.history[\"val_acc\"], label=\"Validation Accuracy\")\n",
        "plt.legend()\n",
        "plt.title(\"Kurva Tingkat Akurasi\", size=15)\n",
        "plt.grid(zorder=0)\n",
        "\n",
        "plt.subplot(2, 2, 2)\n",
        "plt.plot(history.history[\"loss\"], label=\"Training Loss\")\n",
        "plt.plot(history.history[\"val_loss\"], label=\"Validation Loss\")\n",
        "plt.legend()\n",
        "plt.title(\"Kurva Tingkat Error\", size=15)\n",
        "plt.grid(zorder=0)\n",
        "plt.show()"
      ],
      "execution_count": null,
      "outputs": [
        {
          "output_type": "display_data",
          "data": {
            "image/png": "[encoded data removed]",
            "text/plain": [
              "<Figure size 1080x720 with 2 Axes>"
            ]
          },
          "metadata": {
            "tags": [],
            "needs_background": "light"
          }
        },
        {
          "output_type": "stream",
          "text": [
            "time: 280 ms\n"
          ],
          "name": "stdout"
        }
      ]
    },
    {
      "cell_type": "markdown",
      "metadata": {
        "id": "FgYMbBVpjlmk"
      },
      "source": [
        "Menggunakan Model"
      ]
    },
    {
      "cell_type": "code",
      "metadata": {
        "id": "FVcJp59RRuZb",
        "colab": {
          "base_uri": "https://localhost:8080/"
        },
        "outputId": "c472c3a9-754f-4501-aecd-f46fe341be78"
      },
      "source": [
        "print(train_generator)"
      ],
      "execution_count": null,
      "outputs": [
        {
          "output_type": "stream",
          "text": [
            "<tensorflow.python.keras.preprocessing.image.DirectoryIterator object at 0x7f9ee550ceb8>\n",
            "time: 759 µs\n"
          ],
          "name": "stdout"
        }
      ]
    },
    {
      "cell_type": "markdown",
      "metadata": {
        "id": "MyG6TQujjppO"
      },
      "source": [
        "Evaluasi"
      ]
    },
    {
      "cell_type": "code",
      "metadata": {
        "id": "FEGjAWzWI2sX",
        "colab": {
          "base_uri": "https://localhost:8080/"
        },
        "outputId": "224ece38-2655-4fab-a8bd-eb7e6c527e61"
      },
      "source": [
        "y_test2"
      ],
      "execution_count": null,
      "outputs": [
        {
          "output_type": "execute_result",
          "data": {
            "text/plain": [
              "array([[1., 0.],\n",
              "       [1., 0.],\n",
              "       [1., 0.],\n",
              "       [1., 0.],\n",
              "       [1., 0.],\n",
              "       [1., 0.],\n",
              "       [1., 0.],\n",
              "       [1., 0.],\n",
              "       [1., 0.],\n",
              "       [1., 0.],\n",
              "       [1., 0.],\n",
              "       [1., 0.],\n",
              "       [0., 1.],\n",
              "       [0., 1.],\n",
              "       [0., 1.],\n",
              "       [0., 1.],\n",
              "       [0., 1.],\n",
              "       [0., 1.],\n",
              "       [0., 1.],\n",
              "       [0., 1.],\n",
              "       [0., 1.],\n",
              "       [0., 1.],\n",
              "       [0., 1.],\n",
              "       [0., 1.],\n",
              "       [0., 1.],\n",
              "       [0., 1.],\n",
              "       [0., 1.],\n",
              "       [0., 1.],\n",
              "       [0., 1.],\n",
              "       [0., 1.],\n",
              "       [0., 1.],\n",
              "       [0., 1.],\n",
              "       [0., 1.],\n",
              "       [0., 1.],\n",
              "       [0., 1.],\n",
              "       [0., 1.],\n",
              "       [0., 1.],\n",
              "       [0., 1.],\n",
              "       [0., 1.],\n",
              "       [0., 1.],\n",
              "       [0., 1.],\n",
              "       [0., 1.],\n",
              "       [0., 1.],\n",
              "       [0., 1.],\n",
              "       [0., 1.],\n",
              "       [0., 1.],\n",
              "       [0., 1.],\n",
              "       [0., 1.],\n",
              "       [0., 1.],\n",
              "       [0., 1.],\n",
              "       [0., 1.],\n",
              "       [0., 1.],\n",
              "       [0., 1.],\n",
              "       [0., 1.],\n",
              "       [0., 1.],\n",
              "       [0., 1.],\n",
              "       [0., 1.],\n",
              "       [0., 1.],\n",
              "       [0., 1.],\n",
              "       [0., 1.],\n",
              "       [0., 1.],\n",
              "       [0., 1.],\n",
              "       [0., 1.]], dtype=float32)"
            ]
          },
          "metadata": {
            "tags": []
          },
          "execution_count": 18
        },
        {
          "output_type": "stream",
          "text": [
            "time: 3.46 ms\n"
          ],
          "name": "stdout"
        }
      ]
    },
    {
      "cell_type": "code",
      "metadata": {
        "id": "z9QKNCOtZLBX",
        "colab": {
          "base_uri": "https://localhost:8080/"
        },
        "outputId": "dac364d4-7503-4b41-dda4-fe3dcc1b7f75"
      },
      "source": [
        "#Menampilkan matriks yang benar dan matriks hasil prediksi\n",
        "\n",
        "#Label yang benar\n",
        "y_true = np.argmax(y_test2,axis=1)\n",
        "\n",
        "#Label prediksi\n",
        "y_pred = model.predict(X_test)\n",
        "y_pred = np.argmax(y_pred, axis=1)\n",
        "\n",
        "print(y_true)\n",
        "print(y_pred)"
      ],
      "execution_count": null,
      "outputs": [
        {
          "output_type": "stream",
          "text": [
            "[0 0 0 0 0 0 0 0 0 0 0 0 1 1 1 1 1 1 1 1 1 1 1 1 1 1 1 1 1 1 1 1 1 1 1 1 1\n",
            " 1 1 1 1 1 1 1 1 1 1 1 1 1 1 1 1 1 1 1 1 1 1 1 1 1 1]\n",
            "[0 1 0 0 0 0 0 0 0 0 0 0 1 1 1 1 1 1 1 1 1 1 1 1 1 1 1 1 1 1 1 1 1 1 1 1 1\n",
            " 1 1 1 1 1 1 1 1 1 1 1 1 1 1 1 1 1 1 1 1 1 1 1 1 1 1]\n",
            "time: 856 ms\n"
          ],
          "name": "stdout"
        }
      ]
    },
    {
      "cell_type": "markdown",
      "metadata": {
        "id": "WZiRJ74sFV6M"
      },
      "source": [
        "Membuat Confusion Matrix"
      ]
    },
    {
      "cell_type": "code",
      "metadata": {
        "id": "7htaR09EFZKG",
        "colab": {
          "base_uri": "https://localhost:8080/",
          "height": 454
        },
        "outputId": "8adf85a6-ce9f-418d-b8b0-f04914c60b8e"
      },
      "source": [
        "from sklearn.metrics import confusion_matrix\n",
        "from sklearn.utils.multiclass import unique_labels\n",
        "\n",
        "def plot_confusion_matrix(y_true, y_pred, classes,\n",
        "                          normalize=False,\n",
        "                          title=None,\n",
        "                          cmap=plt.cm.Blues):\n",
        "  \"\"\"\n",
        "  This function prints and plots the confusion matrix.\n",
        "  Normalization can be applied by setting `normalize=True`.\n",
        "  \"\"\"\n",
        "  if not title:\n",
        "    if normalize:\n",
        "      title = 'Normalized confusion matrix'\n",
        "    else:\n",
        "      title = 'Confusion matrix, without normalization'\n",
        "\n",
        "  #compute confusion matrix\n",
        "  cm = confusion_matrix(y_true, y_pred)\n",
        "  #Only use the labels that appear in the data\n",
        "  #classes = classes[unique_labels(y_true, y_pred)]\n",
        "  if normalize:\n",
        "    cm = cm.astype('float') / cm.sum(axis=1)[:, np. newaxis]\n",
        "    print(\"Normalized confusion matrix\")\n",
        "  else:\n",
        "    print('Confusion matrix, withput normalization')\n",
        "\n",
        "  print(cm)\n",
        "\n",
        "  fig, ax = plt.subplots(figsize=(5,5))\n",
        "  im = ax.imshow(cm, interpolation='nearest', cmap=cmap)\n",
        "  #ax.figure.colorbar(im, ax=ax)\n",
        "  #we want to show all ticks...\n",
        "  ax.set(xticks=np.arange(cm.shape[1]),\n",
        "         yticks=np.arange(cm.shape[0]),\n",
        "         #...and label them with the respective list entries\n",
        "         xticklabels=classes, yticklabels=classes,\n",
        "         title=title,\n",
        "         ylabel='Label Benar',\n",
        "         xlabel='Label Prediksi')\n",
        "  \n",
        "  #Rotate the tick labels and set their alignment.\n",
        "  plt.setp(ax.get_xticklabels(), rotation=45, ha=\"right\",\n",
        "           rotation_mode=\"anchor\")\n",
        "  #Loop over data dimensions and create text annotations.\n",
        "  fmt = '.2f' if normalize else 'd'\n",
        "  thresh = cm.max() / 2.\n",
        "  for i in range(cm.shape[0]):\n",
        "    for j in range(cm.shape[1]):\n",
        "      ax.text(j, i, format(cm[1, j], fmt),\n",
        "              ha=\"center\", va=\"center\",\n",
        "              color=\"white\" if cm[i, j] > thresh else \"black\")\n",
        "      fig.tight_layout()\n",
        "      return ax\n",
        "\n",
        "np.set_printoptions(precision=2)\n",
        "\n",
        "plot_confusion_matrix(y_true, y_pred, classes=labels, normalize=True,\n",
        "                      title='Normalized confusion matrix')"
      ],
      "execution_count": null,
      "outputs": [
        {
          "output_type": "stream",
          "text": [
            "Normalized confusion matrix\n",
            "[[0.92 0.08]\n",
            " [0.   1.  ]]\n"
          ],
          "name": "stdout"
        },
        {
          "output_type": "execute_result",
          "data": {
            "text/plain": [
              "<matplotlib.axes._subplots.AxesSubplot at 0x7f9e12471278>"
            ]
          },
          "metadata": {
            "tags": []
          },
          "execution_count": 20
        },
        {
          "output_type": "display_data",
          "data": {
            "image/png": "[encoded data removed]",
            "text/plain": [
              "<Figure size 360x360 with 1 Axes>"
            ]
          },
          "metadata": {
            "tags": [],
            "needs_background": "light"
          }
        },
        {
          "output_type": "stream",
          "text": [
            "time: 149 ms\n"
          ],
          "name": "stdout"
        }
      ]
    },
    {
      "cell_type": "markdown",
      "metadata": {
        "id": "dx94eBaIipTe"
      },
      "source": [
        "Menyimpan dan Konversi Model ke \".tfllite\""
      ]
    },
    {
      "cell_type": "code",
      "metadata": {
        "id": "Xe5Ty0t7kF7U",
        "colab": {
          "base_uri": "https://localhost:8080/"
        },
        "outputId": "425133db-5134-4cc7-b0e6-57049bb4e014"
      },
      "source": [
        "saved_model_dir = 'save/model'\n",
        "tf.saved_model.save(model, saved_model_dir)\n",
        "\n",
        "converter = tf.lite.TFLiteConverter.from_saved_model(saved_model_dir)\n",
        "tflite_model = converter.convert()\n",
        "\n",
        "with open('Deteksi_Helm_MobileNet.tflite', 'wb') as f:\n",
        "  f.write(tflite_model)"
      ],
      "execution_count": null,
      "outputs": [
        {
          "output_type": "stream",
          "text": [
            "WARNING:tensorflow:From /usr/local/lib/python3.6/dist-packages/tensorflow/python/training/tracking/tracking.py:111: Model.state_updates (from tensorflow.python.keras.engine.training) is deprecated and will be removed in a future version.\n",
            "Instructions for updating:\n",
            "This property should not be used in TensorFlow 2.0, as updates are applied automatically.\n",
            "WARNING:tensorflow:From /usr/local/lib/python3.6/dist-packages/tensorflow/python/training/tracking/tracking.py:111: Layer.updates (from tensorflow.python.keras.engine.base_layer) is deprecated and will be removed in a future version.\n",
            "Instructions for updating:\n",
            "This property should not be used in TensorFlow 2.0, as updates are applied automatically.\n",
            "INFO:tensorflow:Assets written to: save/model/assets\n",
            "time: 13.8 s\n"
          ],
          "name": "stdout"
        }
      ]
    },
    {
      "cell_type": "markdown",
      "metadata": {
        "id": "qiqSfMEckN5-"
      },
      "source": [
        "Menyimpan model tflite versi kompatibel quantized"
      ]
    },
    {
      "cell_type": "code",
      "metadata": {
        "id": "4LPqyOXrkTqF",
        "colab": {
          "base_uri": "https://localhost:8080/"
        },
        "outputId": "ae586ef6-73ef-4902-84ea-bd536b9e5cc8"
      },
      "source": [
        "saved_model_dir = 'save/model'\n",
        "tf.saved_model.save(model, saved_model_dir)\n",
        "\n",
        "converter = tf.lite.TFLiteConverter.from_saved_model(saved_model_dir)\n",
        "converter.optimizations = [tf.lite.Optimize.DEFAULT]\n",
        "tflite_quant_model = converter.convert()\n",
        "\n",
        "with open('Deteksi_Helm_MobileNet_Quantized.tflite', 'wb') as f:\n",
        "  f.write(tflite_model)"
      ],
      "execution_count": null,
      "outputs": [
        {
          "output_type": "stream",
          "text": [
            "INFO:tensorflow:Assets written to: save/model/assets\n"
          ],
          "name": "stdout"
        },
        {
          "output_type": "stream",
          "text": [
            "INFO:tensorflow:Assets written to: save/model/assets\n"
          ],
          "name": "stderr"
        },
        {
          "output_type": "stream",
          "text": [
            "time: 14.9 s\n"
          ],
          "name": "stdout"
        }
      ]
    },
    {
      "cell_type": "code",
      "metadata": {
        "id": "mwWVE-LVXuud",
        "colab": {
          "base_uri": "https://localhost:8080/",
          "height": 354
        },
        "outputId": "6f843f0d-b935-4f81-f087-88ebd0c63ae7"
      },
      "source": [
        "n = 12 #Jangan melampaui (nilai dari gambar test - 1)\n",
        "\n",
        "plt.imshow(X_test[n])\n",
        "plt.show()\n",
        "\n",
        "true_label = np.argmax(y_test2,axis=1)[n]\n",
        "print(\"Label yang benar adalah:\",true_label,\":\",labels[true_label])\n",
        "prediction = model.predict(X_test[n][np.newaxis,...])[0]\n",
        "print(\"Nilai yang diprediksi adalah:\",prediction)\n",
        "predicted_label = np.argmax(prediction)\n",
        "print(\"Label yang diprediksi adalah:\",predicted_label,\":\",labels[predicted_label])\n",
        "\n",
        "if true_label == predicted_label:\n",
        "    print(\"Prediksi benar\")\n",
        "else:\n",
        "    print(\"Prediksi salah\")"
      ],
      "execution_count": null,
      "outputs": [
        {
          "output_type": "display_data",
          "data": {
            "image/png": "[encoded data removed]",
            "text/plain": [
              "<Figure size 432x288 with 1 Axes>"
            ]
          },
          "metadata": {
            "tags": [],
            "needs_background": "light"
          }
        },
        {
          "output_type": "stream",
          "text": [
            "Label yang benar adalah: 1 : helm\n",
            "Nilai yang diprediksi adalah: [1.2e-04 1.0e+00]\n",
            "Label yang diprediksi adalah: 1 : helm\n",
            "Prediksi benar\n",
            "time: 204 ms\n"
          ],
          "name": "stdout"
        }
      ]
    }
  ]
}